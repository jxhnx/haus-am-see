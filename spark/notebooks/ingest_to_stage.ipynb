{
 "cells": [
  {
   "cell_type": "code",
   "execution_count": null,
   "metadata": {},
   "outputs": [
    {
     "name": "stdout",
     "output_type": "stream",
     "text": [
      "Setting default log level to \"WARN\".\n",
      "To adjust logging level use sc.setLogLevel(newLevel). For SparkR, use setLogLevel(newLevel).\n",
      "25/08/13 19:30:24 WARN NativeCodeLoader: Unable to load native-hadoop library for your platform... using builtin-java classes where applicable\n",
      "Ingesting 'customers' from s3a://raw/kafka/storefront.public.customers/\n",
      "25/08/13 19:30:25 WARN MetricsConfig: Cannot locate configuration: tried hadoop-metrics2-s3a-file-system.properties,hadoop-metrics2.properties\n",
      "25/08/13 19:30:32 WARN S3ABlockOutputStream: Application invoked the Syncable API against stream writing to stage/customers/data/event_date=2025-01-01/00000-11-5fd7440d-834d-42bc-a407-3d32791c6a76-0-00062.parquet. This is unsupported\n",
      "Created table lakehouse.stage.customers                                         \n",
      "Ingesting 'order_items' from s3a://raw/kafka/storefront.public.order_items/\n",
      "Created table lakehouse.stage.order_items                                       \n",
      "Ingesting 'orders' from s3a://raw/kafka/storefront.public.orders/\n",
      "Created table lakehouse.stage.orders\n",
      "Ingesting 'payments' from s3a://raw/kafka/storefront.public.payments/\n",
      "Created table lakehouse.stage.payments                                          \n",
      "Ingesting 'products' from s3a://raw/kafka/storefront.public.products/\n",
      "Created table lakehouse.stage.products                                          \n"
     ]
    }
   ],
   "source": [
    "# Run script for storefront ingest from raw to stage (bronze)\n",
    "!python /home/spark/work/jobs/storefront_raw_stage.py"
   ]
  }
 ],
 "metadata": {
  "kernelspec": {
   "display_name": "Python 3 (ipykernel)",
   "language": "python",
   "name": "python3"
  },
  "language_info": {
   "codemirror_mode": {
    "name": "ipython",
    "version": 3
   },
   "file_extension": ".py",
   "mimetype": "text/x-python",
   "name": "python",
   "nbconvert_exporter": "python",
   "pygments_lexer": "ipython3",
   "version": "3.12.10"
  }
 },
 "nbformat": 4,
 "nbformat_minor": 4
}
